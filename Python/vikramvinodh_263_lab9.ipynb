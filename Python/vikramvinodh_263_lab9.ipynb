{
 "cells": [
  {
   "cell_type": "markdown",
   "metadata": {},
   "source": [
    "Q1. Write a program to distinguish between Array Indexing and Fancy Indexing."
   ]
  },
  {
   "cell_type": "code",
   "execution_count": 1,
   "metadata": {},
   "outputs": [
    {
     "name": "stdout",
     "output_type": "stream",
     "text": [
      "Array Indexing:\n",
      "2\n",
      "Fancy Indexing:\n",
      "[2 9]\n"
     ]
    }
   ],
   "source": [
    "import numpy as np\n",
    "\n",
    "# Create a 2D array\n",
    "arr = np.array([[1, 2, 3], [4, 5, 6], [7, 8, 9]])\n",
    "\n",
    "# Array Indexing\n",
    "print(\"Array Indexing:\")\n",
    "print(arr[0][1])\n",
    "\n",
    "# Fancy Indexing\n",
    "print(\"Fancy Indexing:\")\n",
    "print(arr[[0, 2], [1, 2]]) "
   ]
  },
  {
   "cell_type": "markdown",
   "metadata": {},
   "source": [
    "Q2. Execute the 2D array Slicing."
   ]
  },
  {
   "cell_type": "code",
   "execution_count": 2,
   "metadata": {},
   "outputs": [
    {
     "name": "stdout",
     "output_type": "stream",
     "text": [
      "Slicing:\n",
      "[[2 3]\n",
      " [5 6]]\n"
     ]
    }
   ],
   "source": [
    "import numpy as np\n",
    "\n",
    "# Create a 2D array\n",
    "arr = np.array([[1, 2, 3], [4, 5, 6], [7, 8, 9]])\n",
    "\n",
    "# Slicing\n",
    "print(\"Slicing:\")\n",
    "print(arr[0:2, 1:3]) \n"
   ]
  },
  {
   "cell_type": "markdown",
   "metadata": {},
   "source": [
    "Q3. Create the 5-Dimensional arrays using ‘ndmin’."
   ]
  },
  {
   "cell_type": "code",
   "execution_count": 3,
   "metadata": {},
   "outputs": [
    {
     "name": "stdout",
     "output_type": "stream",
     "text": [
      "The created array is:\n",
      "[[[[[1 2 3 4]]]]]\n",
      "The number of dimensions of the array is: 5\n"
     ]
    }
   ],
   "source": [
    "import numpy as np\n",
    "\n",
    "# Create a 5-dimensional array\n",
    "arr = np.array([1, 2, 3, 4], ndmin=5)\n",
    "\n",
    "print(\"The created array is:\")\n",
    "print(arr)\n",
    "print(\"The number of dimensions of the array is:\", arr.ndim)"
   ]
  },
  {
   "cell_type": "markdown",
   "metadata": {},
   "source": [
    "Q4. Reshape the array from 1-D to 2-D array."
   ]
  },
  {
   "cell_type": "code",
   "execution_count": 4,
   "metadata": {},
   "outputs": [
    {
     "name": "stdout",
     "output_type": "stream",
     "text": [
      "Original array:\n",
      "[1 2 3 4 5 6]\n",
      "Reshaped array:\n",
      "[[1 2 3]\n",
      " [4 5 6]]\n"
     ]
    }
   ],
   "source": [
    "import numpy as np\n",
    "\n",
    "# Create a 1-D array\n",
    "arr = np.array([1, 2, 3, 4, 5, 6])\n",
    "\n",
    "# Reshape the array to a 2-D array\n",
    "new_arr = arr.reshape(2, 3)\n",
    "\n",
    "print(\"Original array:\")\n",
    "print(arr)\n",
    "\n",
    "print(\"Reshaped array:\")\n",
    "print(new_arr)\n"
   ]
  },
  {
   "cell_type": "markdown",
   "metadata": {},
   "source": [
    "Q5. Perform the Stack functions in Numpy arrays – Stack(), hstack(), vstack(), and dstack()."
   ]
  },
  {
   "cell_type": "code",
   "execution_count": 5,
   "metadata": {},
   "outputs": [
    {
     "name": "stdout",
     "output_type": "stream",
     "text": [
      "Stack():\n",
      "[[[1 2]\n",
      "  [3 4]]\n",
      "\n",
      " [[5 6]\n",
      "  [7 8]]]\n",
      "hstack():\n",
      "[[1 2 5 6]\n",
      " [3 4 7 8]]\n",
      "vstack():\n",
      "[[1 2]\n",
      " [3 4]\n",
      " [5 6]\n",
      " [7 8]]\n",
      "dstack():\n",
      "[[[1 5]\n",
      "  [2 6]]\n",
      "\n",
      " [[3 7]\n",
      "  [4 8]]]\n"
     ]
    }
   ],
   "source": [
    "import numpy as np\n",
    "\n",
    "# Create two 2D arrays\n",
    "a = np.array([[1, 2], [3, 4]])\n",
    "b = np.array([[5, 6], [7, 8]])\n",
    "\n",
    "# Stack the arrays using different functions\n",
    "print(\"Stack():\")\n",
    "print(np.stack((a, b), axis=0))\n",
    "\n",
    "print(\"hstack():\")\n",
    "print(np.hstack((a, b)))\n",
    "\n",
    "print(\"vstack():\")\n",
    "print(np.vstack((a, b)))\n",
    "\n",
    "print(\"dstack():\")\n",
    "print(np.dstack((a, b)))"
   ]
  },
  {
   "cell_type": "markdown",
   "metadata": {},
   "source": [
    "Q6. Perform the searchsort method in Numpy array.\n"
   ]
  },
  {
   "cell_type": "code",
   "execution_count": 6,
   "metadata": {},
   "outputs": [
    {
     "name": "stdout",
     "output_type": "stream",
     "text": [
      "Output indices to maintain sorted array: 2\n"
     ]
    }
   ],
   "source": [
    "import numpy as np\n",
    "\n",
    "# Create an input array\n",
    "arr = np.array([2, 3, 4, 5, 6])\n",
    "\n",
    "# Find the indices to maintain sorted array\n",
    "out_ind = np.searchsorted(arr, 4)\n",
    "\n",
    "print(\"Output indices to maintain sorted array:\", out_ind)"
   ]
  },
  {
   "cell_type": "markdown",
   "metadata": {},
   "source": [
    "Q7. Create Numpy Structured array using your domain features."
   ]
  },
  {
   "cell_type": "code",
   "execution_count": 11,
   "metadata": {},
   "outputs": [
    {
     "name": "stdout",
     "output_type": "stream",
     "text": [
      "The created structured array is:\n",
      "[('himalayan', 'Mountain', 500., 2021, 'Red')\n",
      " ('royal enfield', 'Road', 800., 2022, 'Blue')]\n"
     ]
    }
   ],
   "source": [
    "import numpy as np\n",
    "\n",
    "# Define the data types for the fields\n",
    "dt = np.dtype([('name', 'U20'), ('model', 'U20'), ('price', 'f4'), ('year', 'i4'), ('color', 'U20')])\n",
    "\n",
    "# Create a structured array\n",
    "arr = np.array([('himalayan', 'Mountain', 500.0, 2021, 'Red'), ('royal enfield', 'Road', 800.0, 2022, 'Blue')], dtype=dt)\n",
    "\n",
    "print(\"The created structured array is:\")\n",
    "print(arr)\n"
   ]
  },
  {
   "cell_type": "markdown",
   "metadata": {},
   "source": [
    "Q8. Create Data frame using List and Dictionary."
   ]
  },
  {
   "cell_type": "code",
   "execution_count": 15,
   "metadata": {},
   "outputs": [
    {
     "name": "stdout",
     "output_type": "stream",
     "text": [
      "The created DataFrame is:\n",
      "            name     model     price\n",
      "0      himalayan  Mountain  150000.0\n",
      "1  royal enfield      Road   60000.0\n",
      "2       avengers    Hybrid  500000.0\n",
      "3          NS200       BMX  450000.0\n"
     ]
    }
   ],
   "source": [
    "import pandas as pd\n",
    "\n",
    "# Define the data as a list of dictionaries\n",
    "data = [\n",
    "    {'name': 'himalayan', 'model': 'Mountain',  'price':150000.0,},\n",
    "    {'name': 'royal enfield', 'model': 'Road',  'price':60000.0,},\n",
    "    {'name': 'avengers', 'model': 'Hybrid',  'price':500000.0,},\n",
    "    {'name': 'NS200', 'model': 'BMX',  'price':450000.0,},\n",
    "]\n",
    "\n",
    "# Create a DataFrame from the data\n",
    "df = pd.DataFrame(data)\n",
    "\n",
    "print(\"The created DataFrame is:\")\n",
    "print(df)"
   ]
  },
  {
   "cell_type": "markdown",
   "metadata": {},
   "source": [
    "Q9. Create Data frame on your Domain area and perform the following operations to find and eliminate the\n",
    "missing data from the dataset.\n",
    "• isnull()\n",
    "• notnull()\n",
    "• dropna()\n",
    "• fillna()\n",
    "• replace()\n",
    "• interpolate()"
   ]
  },
  {
   "cell_type": "code",
   "execution_count": 1,
   "metadata": {},
   "outputs": [
    {
     "name": "stdout",
     "output_type": "stream",
     "text": [
      "Missing data:\n",
      "     name  model  price   year  color\n",
      "0  False  False  False  False  False\n",
      "1  False  False  False  False  False\n",
      "2  False  False   True  False   True\n",
      "3  False  False  False   True  False\n",
      "4  False  False  False  False  False\n",
      "Non-missing data:\n",
      "    name  model  price   year  color\n",
      "0  True   True   True   True   True\n",
      "1  True   True   True   True   True\n",
      "2  True   True  False   True  False\n",
      "3  True   True   True  False   True\n",
      "4  True   True   True   True   True\n",
      "After dropping rows with missing data:\n",
      "             name     model   price    year  color\n",
      "0      himalayan  Mountain   500.0  2021.0    Red\n",
      "1  royal enfield      Road   800.0  2022.0   Blue\n",
      "4          omega  Electric  1200.0  2024.0  Black\n",
      "After filling missing values with zero:\n",
      "             name     model   price    year  color\n",
      "0      himalayan  Mountain   500.0  2021.0    Red\n",
      "1  royal enfield      Road   800.0  2022.0   Blue\n",
      "4          omega  Electric  1200.0  2024.0  Black\n",
      "After replacing missing values with the mean of the column:\n",
      "             name     model   price    year  color\n",
      "0      himalayan  Mountain   500.0  2021.0    Red\n",
      "1  royal enfield      Road   800.0  2022.0   Blue\n",
      "4          omega  Electric  1200.0  2024.0  Black\n",
      "After interpolating missing values:\n",
      "             name     model   price    year  color\n",
      "0      himalayan  Mountain   500.0  2021.0    Red\n",
      "1  royal enfield      Road   800.0  2022.0   Blue\n",
      "4          omega  Electric  1200.0  2024.0  Black\n"
     ]
    },
    {
     "name": "stderr",
     "output_type": "stream",
     "text": [
      "/var/folders/6y/g5m9s7tn5dbgx88kjx9hxys00000gn/T/ipykernel_7468/3208745356.py:35: FutureWarning: DataFrame.interpolate with object dtype is deprecated and will raise in a future version. Call obj.infer_objects(copy=False) before interpolating instead.\n",
      "  df.interpolate(inplace=True)\n"
     ]
    }
   ],
   "source": [
    "\n",
    "import pandas as pd\n",
    "import numpy as np\n",
    "\n",
    "# Create a dictionary with bike data\n",
    "bike_data = {\n",
    "    'name': ['himalayan', 'royal enfield', 'avengers', 'NS200', 'omega'],\n",
    "    'model': ['Mountain', 'Road', 'Hybrid', 'BMX', 'Electric'],\n",
    "    'price': [500.0, 800.0, np.nan, 600.0, 1200.0],\n",
    "    'year': [2021, 2022, 2023, np.nan, 2024],\n",
    "    'color': ['Red', 'Blue', np.nan, 'Green', 'Black']\n",
    "}\n",
    "\n",
    "# Create a DataFrame from the dictionary\n",
    "df = pd.DataFrame(bike_data)\n",
    "\n",
    "# Check for missing data\n",
    "print(\"Missing data:\\n\", df.isnull())\n",
    "\n",
    "# Check for non-missing data\n",
    "print(\"Non-missing data:\\n\", df.notnull())\n",
    "\n",
    "# Drop rows with missing data\n",
    "df.dropna(inplace=True)\n",
    "print(\"After dropping rows with missing data:\\n\", df)\n",
    "\n",
    "# Fill missing values with a specific value\n",
    "df.fillna(0, inplace=True)\n",
    "print(\"After filling missing values with zero:\\n\", df)\n",
    "\n",
    "# Replace missing values with the mean of the column\n",
    "df['price'].replace(np.nan, df['price'].mean(), inplace=True)\n",
    "print(\"After replacing missing values with the mean of the column:\\n\", df)\n",
    "\n",
    "# Interpolate missing values\n",
    "df.interpolate(inplace=True)\n",
    "print(\"After interpolating missing values:\\n\", df)"
   ]
  },
  {
   "cell_type": "markdown",
   "metadata": {},
   "source": [
    "Q10. Perform the Hierarchical Indexing in the above created dataset."
   ]
  },
  {
   "cell_type": "code",
   "execution_count": 14,
   "metadata": {},
   "outputs": [
    {
     "name": "stdout",
     "output_type": "stream",
     "text": [
      "The created DataFrame with hierarchical index is:\n",
      "                         price  year   color\n",
      "name          model                         \n",
      "himalayan     Mountain   500.0  2021     Red\n",
      "royal enfield Road       800.0  2022    Blue\n",
      "avengers      Hybrid     600.0  2023   Green\n",
      "NS200         BMX        700.0  2024  Yellow\n",
      "omega         Electric  1200.0  2025   Black\n"
     ]
    }
   ],
   "source": [
    "import pandas as pd\n",
    "\n",
    "# Create a dictionary with bike data\n",
    "bike_data = {\n",
    "    'name': ['himalayan', 'royal enfield', 'avengers', 'NS200', 'omega'],\n",
    "    'model': ['Mountain', 'Road', 'Hybrid', 'BMX', 'Electric'],\n",
    "    'price': [500.0, 800.0, 600.0, 700.0, 1200.0],\n",
    "    'year': [2021, 2022, 2023, 2024, 2025],\n",
    "    'color': ['Red', 'Blue', 'Green', 'Yellow', 'Black']\n",
    "}\n",
    "\n",
    "# Create a DataFrame from the dictionary\n",
    "df = pd.DataFrame(bike_data)\n",
    "\n",
    "# Set the index to be the name and model columns\n",
    "df.set_index(['name', 'model'], inplace=True)\n",
    "\n",
    "print(\"The created DataFrame with hierarchical index is:\")\n",
    "print(df)\n"
   ]
  }
 ],
 "metadata": {
  "kernelspec": {
   "display_name": "Python 3",
   "language": "python",
   "name": "python3"
  },
  "language_info": {
   "codemirror_mode": {
    "name": "ipython",
    "version": 3
   },
   "file_extension": ".py",
   "mimetype": "text/x-python",
   "name": "python",
   "nbconvert_exporter": "python",
   "pygments_lexer": "ipython3",
   "version": "3.9.6"
  },
  "orig_nbformat": 4
 },
 "nbformat": 4,
 "nbformat_minor": 2
}
